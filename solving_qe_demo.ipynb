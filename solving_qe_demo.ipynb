{
 "cells": [
  {
   "cell_type": "markdown",
   "metadata": {},
   "source": [
    "# Solving quadratic equations Demo\n",
    "\n",
    "**Quadratic equations** are a special kind of equation that comes in a form:\n",
    "\n",
    "$ ax^2 + bx + c = 0 $\n",
    "\n",
    "# Solving\n",
    "To find the value of x, we can use the quadratic formula:\n",
    "\n",
    "$ x = \\frac{-b \\pm \\sqrt{b^2 - 4ac}}{2a} $\n",
    "\n",
    "# Sample quadratic equations\n",
    "$ x^2+9x+20 = 0 $\n",
    "\n",
    "$ 4x^2-12x-16 = 0 $\n"
   ]
  },
  {
   "cell_type": "markdown",
   "metadata": {},
   "source": [
    "# Example 1. Python as a Calculator"
   ]
  },
  {
   "cell_type": "code",
   "execution_count": 2,
   "metadata": {},
   "outputs": [
    {
     "output_type": "stream",
     "name": "stdout",
     "text": "-5.0 -4.0\n"
    }
   ],
   "source": [
    "x1 = (-9 - (9**2 - 4 * 20)**0.5) / 2\n",
    "x2 = (-9 + (9**2 - 4 * 20)**0.5) / 2\n",
    "print(x1, x2)"
   ]
  },
  {
   "cell_type": "markdown",
   "metadata": {},
   "source": [
    "# Example 2. Python with variables"
   ]
  },
  {
   "cell_type": "code",
   "execution_count": 3,
   "metadata": {},
   "outputs": [
    {
     "output_type": "stream",
     "name": "stdout",
     "text": "-5.0 -4.0\n"
    }
   ],
   "source": [
    "a = 1\n",
    "b = 9\n",
    "c = 20\n",
    "#a = 4\n",
    "#b = -12\n",
    "#c = -16\n",
    "x1 = (-b - (b**2 - 4 * a * c)**0.5) / (2 * a)\n",
    "x2 = (-b + (b**2 - 4 * a * c)**0.5) / (2 * a)\n",
    "print(x1, x2)"
   ]
  },
  {
   "cell_type": "markdown",
   "metadata": {},
   "source": [
    "or\n"
   ]
  },
  {
   "cell_type": "code",
   "execution_count": 4,
   "metadata": {},
   "outputs": [
    {
     "output_type": "stream",
     "name": "stdout",
     "text": "-5.0 -4.0\n\n-1.0 4.0\n"
    }
   ],
   "source": [
    "a = 1\n",
    "b = 9\n",
    "c = 20\n",
    "x1 = (-b - (b**2 - 4 * a * c)**0.5) / (2 * a)\n",
    "x2 = (-b + (b**2 - 4 * a * c)**0.5) / (2 * a)\n",
    "print(x1, x2)\n",
    "\n",
    "print()\n",
    "\n",
    "a = 4\n",
    "b = -12\n",
    "c = -16\n",
    "x1 = (-b - (b**2 - 4 * a * c)**0.5) / (2 * a)\n",
    "x2 = (-b + (b**2 - 4 * a * c)**0.5) / (2 * a)\n",
    "print(x1, x2)\n"
   ]
  }
 ],
 "metadata": {
  "language_info": {
   "codemirror_mode": {
    "name": "ipython",
    "version": 3
   },
   "file_extension": ".py",
   "mimetype": "text/x-python",
   "name": "python",
   "nbconvert_exporter": "python",
   "pygments_lexer": "ipython3",
   "version": "3.7.3-final"
  },
  "orig_nbformat": 2,
  "kernelspec": {
   "name": "python37364bite1e3dbfbf9c94d91b7177da2bd56fdce",
   "display_name": "Python 3.7.3 64-bit"
  }
 },
 "nbformat": 4,
 "nbformat_minor": 2
}