{
 "cells": [
  {
   "cell_type": "markdown",
   "metadata": {},
   "source": [
    "# Translate  Backwards Project\n",
    "\n",
    "<b>TASK1</b>\n",
    "Creating translate_backwards(word) function"
   ]
  },
  {
   "cell_type": "code",
   "execution_count": 1,
   "metadata": {},
   "outputs": [],
   "source": [
    "def translate_backwards(word):\n",
    "    \"\"\"\n",
    "    Translates a given work into a \"backwords\" language\n",
    "    Input:\n",
    "        word to be translated; string\n",
    "    Output:\n",
    "        \"backwords\" word, lowercased; string\n",
    "    \"\"\"\n",
    "    backwords = word[::-1]\n",
    "    backwords = backwords.lower()\n",
    "    return backwords"
   ]
  },
  {
   "cell_type": "markdown",
   "metadata": {},
   "source": [
    "Testing translate_backwords(word) function"
   ]
  },
  {
   "cell_type": "code",
   "execution_count": 2,
   "metadata": {},
   "outputs": [
    {
     "name": "stdout",
     "output_type": "stream",
     "text": [
      "olleh\n"
     ]
    }
   ],
   "source": [
    "print(translate_demo(\"Hello\"))"
   ]
  }
 ],
 "metadata": {
  "kernelspec": {
   "display_name": "Python 3",
   "language": "python",
   "name": "python3"
  },
  "language_info": {
   "codemirror_mode": {
    "name": "ipython",
    "version": 3
   },
   "file_extension": ".py",
   "mimetype": "text/x-python",
   "name": "python",
   "nbconvert_exporter": "python",
   "pygments_lexer": "ipython3",
   "version": "3.7.3"
  }
 },
 "nbformat": 4,
 "nbformat_minor": 2
}
